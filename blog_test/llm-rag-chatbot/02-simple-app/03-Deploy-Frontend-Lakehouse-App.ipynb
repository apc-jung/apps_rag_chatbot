{
 "cells": [
  {
   "cell_type": "markdown",
   "metadata": {
    "application/vnd.databricks.v1+cell": {
     "cellMetadata": {},
     "inputWidgets": {},
     "isMarkdownSandbox": true,
     "nuid": "02cd3743-14bb-4942-97f0-95cd7df807d4",
     "showTitle": false,
     "tableResultSettingsMap": {},
     "title": ""
    }
   },
   "source": [
    "# 3/ Deploying our frontend App with Lakehouse Applications\n",
    "\n",
    "\n",
    "Mosaic AI Agent Evaluation review app is used for collecting stakeholder feedback during your development process.\n",
    "\n",
    "You still need to deploy your own front end application!\n",
    "\n",
    "Let's leverage Databricks Lakehouse Applications to build and deploy our first, simple chatbot frontend app. \n",
    "\n",
    "<img src=\"https://github.com/databricks-demos/dbdemos-resources/blob/main/images/product/chatbot-rag/rag-frontend-app.png?raw=true\" width=\"1200px\">\n",
    "\n",
    "\n",
    "<div style=\"background-color: #d4e7ff; padding: 10px; border-radius: 15px;\">\n",
    "<strong>Note:</strong> Lakehouse apps are in preview, reach-out your Databricks Account team for more details and to enable it.\n",
    "</div>\n",
    "\n",
    "<!-- Collect usage data (view). Remove it to disable collection or disable tracker during installation. View README for more details.  -->\n",
    "<img width=\"1px\" src=\"https://ppxrzfxige.execute-api.us-west-2.amazonaws.com/v1/analytics?category=data-science&org_id=341332174749405&notebook=%2F02-simple-app%2F03-Deploy-Frontend-Lakehouse-App&demo_name=llm-rag-chatbot&event=VIEW&path=%2F_dbdemos%2Fdata-science%2Fllm-rag-chatbot%2F02-simple-app%2F03-Deploy-Frontend-Lakehouse-App&version=1\">"
   ]
  },
  {
   "cell_type": "code",
   "execution_count": 0,
   "metadata": {
    "application/vnd.databricks.v1+cell": {
     "cellMetadata": {},
     "inputWidgets": {},
     "nuid": "a5748f2a-3827-4161-bbf5-b50600972289",
     "showTitle": false,
     "tableResultSettingsMap": {},
     "title": ""
    }
   },
   "outputs": [],
   "source": [
    "%pip install --quiet -U mlflow[databricks] databricks-sdk==0.59.0\n",
    "dbutils.library.restartPython()"
   ]
  },
  {
   "cell_type": "code",
   "execution_count": 0,
   "metadata": {
    "application/vnd.databricks.v1+cell": {
     "cellMetadata": {},
     "inputWidgets": {},
     "nuid": "9e168544-67c6-4aed-9084-50c125de2064",
     "showTitle": false,
     "tableResultSettingsMap": {},
     "title": ""
    },
    "jupyter": {
     "outputs_hidden": true
    }
   },
   "outputs": [],
   "source": [
    "%run ../_resources/00-init $reset_all_data=false"
   ]
  },
  {
   "cell_type": "markdown",
   "metadata": {
    "application/vnd.databricks.v1+cell": {
     "cellMetadata": {},
     "inputWidgets": {},
     "nuid": "fdf75576-5c7f-4ffe-9db0-4c95f41c9d24",
     "showTitle": false,
     "tableResultSettingsMap": {},
     "title": ""
    }
   },
   "source": [
    "## Add your application configuration\n",
    "\n",
    "Lakehouse apps let you work with any python framework. For our small demo, we will create a small configuration file containing the model serving endpoint name used for our demo and save it in the `chatbot_app/app.yaml` file."
   ]
  },
  {
   "cell_type": "code",
   "execution_count": 0,
   "metadata": {
    "application/vnd.databricks.v1+cell": {
     "cellMetadata": {},
     "inputWidgets": {},
     "nuid": "12c2c90d-7365-4ff8-a080-85f5c4ad4eb3",
     "showTitle": false,
     "tableResultSettingsMap": {},
     "title": ""
    }
   },
   "outputs": [],
   "source": [
    "MODEL_NAME = \"dbdemos_rag_demo\"\n",
    "endpoint_name = f'agents_{catalog}-{db}-{MODEL_NAME}'[:60]\n",
    "\n",
    "# Our frontend application will hit the model endpoint we deployed.\n",
    "# Because dbdemos let you change your catalog and database, let's make sure we deploy the app with the proper endpoint name\n",
    "yaml_app_config = {\"command\": [\"uvicorn\", \"main:app\", \"--workers\", \"1\"],\n",
    "                    \"env\": [{\"name\": \"MODEL_SERVING_ENDPOINT\", \"value\": endpoint_name}]\n",
    "                  }\n",
    "try:\n",
    "    with open('chatbot_app/app.yaml', 'w') as f:\n",
    "        yaml.dump(yaml_app_config, f)\n",
    "except:\n",
    "    print('pass to work on build job')"
   ]
  },
  {
   "cell_type": "markdown",
   "metadata": {
    "application/vnd.databricks.v1+cell": {
     "cellMetadata": {},
     "inputWidgets": {},
     "nuid": "80cf653c-fc1e-4475-9dfd-72d57470cb4b",
     "showTitle": false,
     "tableResultSettingsMap": {},
     "title": ""
    }
   },
   "source": [
    "## Let's now create our chatbot application using Gradio"
   ]
  },
  {
   "cell_type": "code",
   "execution_count": 0,
   "metadata": {
    "application/vnd.databricks.v1+cell": {
     "cellMetadata": {},
     "inputWidgets": {},
     "nuid": "3b563ed5-ace8-44ab-9791-84c2af6c4ddf",
     "showTitle": false,
     "tableResultSettingsMap": {},
     "title": ""
    }
   },
   "outputs": [],
   "source": [
    "%%writefile chatbot_app/main.py\n",
    "from fastapi import FastAPI\n",
    "import gradio as gr\n",
    "import os\n",
    "from gradio.themes.utils import sizes\n",
    "from databricks.sdk import WorkspaceClient\n",
    "from databricks.sdk.service.serving import ChatMessage, ChatMessageRole\n",
    "\n",
    "app = FastAPI()\n",
    "\n",
    "# your endpoint will directly be setup with proper permissions when you deploy your app\n",
    "w = WorkspaceClient()\n",
    "available_endpoints = [x.name for x in w.serving_endpoints.list()]\n",
    "\n",
    "\n",
    "def respond(message, history, dropdown):\n",
    "    if len(message.strip()) == 0:\n",
    "        return \"ERROR the question should not be empty\"\n",
    "    try:\n",
    "        messages = []\n",
    "        if history:\n",
    "            for human, assistant in history:\n",
    "                messages.append(ChatMessage(content=human, role=ChatMessageRole.USER))\n",
    "                messages.append(\n",
    "                    ChatMessage(content=assistant, role=ChatMessageRole.ASSISTANT)\n",
    "                )\n",
    "        messages.append(ChatMessage(content=message, role=ChatMessageRole.USER))\n",
    "        response = w.serving_endpoints.query(\n",
    "            name=dropdown,\n",
    "            messages=messages,\n",
    "            temperature=1.0,\n",
    "            stream=False,\n",
    "        )\n",
    "    except Exception as error:\n",
    "        return f\"ERROR requesting endpoint {dropdown}: {error}\"\n",
    "    return response.choices[0].message.content\n",
    "\n",
    "\n",
    "theme = gr.themes.Soft(\n",
    "    text_size=sizes.text_sm,\n",
    "    radius_size=sizes.radius_sm,\n",
    "    spacing_size=sizes.spacing_sm,\n",
    ")\n",
    "\n",
    "demo = gr.ChatInterface(\n",
    "    respond,\n",
    "    chatbot=gr.Chatbot(\n",
    "        show_label=False, container=False, show_copy_button=True, bubble_full_width=True\n",
    "    ),\n",
    "    textbox=gr.Textbox(placeholder=\"What is RAG?\", container=False, scale=7),\n",
    "    title=\"Databricks App RAG demo - Chat with your Databricks assistant\",\n",
    "    description=\"This chatbot is a demo example for the dbdemos llm chatbot. <br>It answers with the help of Databricks Documentation saved in a Knowledge database.<br/>This content is provided as a LLM RAG educational example, without support. It is using DBRX, can hallucinate and should not be used as production content.<br>Please review our dbdemos license and terms for more details.\",\n",
    "    examples=[\n",
    "        [\"What is DBRX?\"],\n",
    "        [\"How can I start a Databricks cluster?\"],\n",
    "        [\"What is a Databricks Cluster Policy?\"],\n",
    "        [\"How can I track billing usage on my workspaces?\"],\n",
    "    ],\n",
    "    cache_examples=False,\n",
    "    theme=theme,\n",
    "    retry_btn=None,\n",
    "    undo_btn=None,\n",
    "    clear_btn=\"Clear\",\n",
    "    additional_inputs=gr.Dropdown(\n",
    "        choices=available_endpoints,\n",
    "        value=os.environ[\"MODEL_SERVING_ENDPOINT\"],\n",
    "        label=\"Serving Endpoint\",\n",
    "    ),\n",
    "    additional_inputs_accordion=\"Settings\",\n",
    ")\n",
    "\n",
    "demo.queue(default_concurrency_limit=100)\n",
    "app = gr.mount_gradio_app(app, demo, path=\"/\")"
   ]
  },
  {
   "cell_type": "markdown",
   "metadata": {
    "application/vnd.databricks.v1+cell": {
     "cellMetadata": {},
     "inputWidgets": {},
     "nuid": "0b9515fa-169c-4ad2-94fb-d1a35a16131c",
     "showTitle": false,
     "tableResultSettingsMap": {},
     "title": ""
    }
   },
   "source": [
    "## Deploying our application\n",
    "\n",
    "Our application is made of 2 files under the `chatbot_app` folder:\n",
    "- `main.py` containing our python code\n",
    "- `app.yaml` containing our configuration\n",
    "\n",
    "All we now have to do is call the API to create a new app and deploy using the `chatbot_app` path:"
   ]
  },
  {
   "cell_type": "code",
   "execution_count": 0,
   "metadata": {
    "application/vnd.databricks.v1+cell": {
     "cellMetadata": {},
     "inputWidgets": {},
     "nuid": "006f7d8a-ec30-4d2e-9f9c-33994046d9ca",
     "showTitle": false,
     "tableResultSettingsMap": {},
     "title": ""
    }
   },
   "outputs": [],
   "source": [
    "from databricks.sdk import WorkspaceClient\n",
    "from databricks.sdk.service.apps import App, AppResource, AppResourceServingEndpoint, AppResourceServingEndpointServingEndpointPermission, AppDeployment\n",
    "\n",
    "w = WorkspaceClient()\n",
    "\n",
    "app_name = \"dbdemos-rag-chatbot-app\""
   ]
  },
  {
   "cell_type": "markdown",
   "metadata": {
    "application/vnd.databricks.v1+cell": {
     "cellMetadata": {},
     "inputWidgets": {},
     "nuid": "de6048c4-054e-41f1-9cf1-f558537479c4",
     "showTitle": false,
     "tableResultSettingsMap": {},
     "title": ""
    }
   },
   "source": [
    "Lakehouse apps come with an auto-provisioned Service Principal. Let's grant this Service Principal access to our model endpoint before deploying..."
   ]
  },
  {
   "cell_type": "code",
   "execution_count": 0,
   "metadata": {
    "application/vnd.databricks.v1+cell": {
     "cellMetadata": {},
     "inputWidgets": {},
     "nuid": "9965ef9d-c559-4d19-aa07-4211863b5cec",
     "showTitle": false,
     "tableResultSettingsMap": {},
     "title": ""
    }
   },
   "outputs": [],
   "source": [
    "serving_endpoint = AppResourceServingEndpoint(name=endpoint_name,\n",
    "                                              permission=AppResourceServingEndpointServingEndpointPermission.CAN_QUERY\n",
    "                                              )\n",
    "\n",
    "rag_endpoint = AppResource(name=\"rag-endpoint\", serving_endpoint=serving_endpoint) \n",
    "\n",
    "rag_app = App(name=app_name, \n",
    "              description=\"Your Databricks assistant\", \n",
    "              default_source_code_path=os.path.join(os.getcwd(), 'chatbot_app'),\n",
    "              resources=[rag_endpoint])\n",
    "try:\n",
    "  app_details = w.apps.create_and_wait(app=rag_app)\n",
    "  print(app_details)\n",
    "except Exception as e:\n",
    "  if \"already exists\" in str(e):\n",
    "    print(\"App already exists, you can deploy it\")\n",
    "  else:\n",
    "    raise e"
   ]
  },
  {
   "cell_type": "markdown",
   "metadata": {
    "application/vnd.databricks.v1+cell": {
     "cellMetadata": {},
     "inputWidgets": {},
     "nuid": "dad4c687-0752-4426-96c8-bcd73bd4d3a0",
     "showTitle": false,
     "tableResultSettingsMap": {},
     "title": ""
    }
   },
   "source": [
    "Once the app is created, we can (re)deploy the code as following:"
   ]
  },
  {
   "cell_type": "code",
   "execution_count": 0,
   "metadata": {
    "application/vnd.databricks.v1+cell": {
     "cellMetadata": {},
     "inputWidgets": {},
     "nuid": "b7ea2146-b1f1-4a7a-ba68-e50771dcebc4",
     "showTitle": false,
     "tableResultSettingsMap": {},
     "title": ""
    }
   },
   "outputs": [],
   "source": [
    "deployment = AppDeployment(\n",
    "  source_code_path=os.path.join(os.getcwd(), 'chatbot_app')\n",
    ")\n",
    "\n",
    "app_details = w.apps.deploy_and_wait(app_name=app_name, app_deployment=deployment)"
   ]
  },
  {
   "cell_type": "code",
   "execution_count": 0,
   "metadata": {
    "application/vnd.databricks.v1+cell": {
     "cellMetadata": {},
     "inputWidgets": {},
     "nuid": "001d21f9-59c4-474d-8528-bfe26d016079",
     "showTitle": false,
     "tableResultSettingsMap": {},
     "title": ""
    }
   },
   "outputs": [],
   "source": [
    "#Let's access the application\n",
    "w.apps.get(name=app_name).url"
   ]
  },
  {
   "cell_type": "markdown",
   "metadata": {
    "application/vnd.databricks.v1+cell": {
     "cellMetadata": {},
     "inputWidgets": {},
     "isMarkdownSandbox": true,
     "nuid": "ccbd72e5-66d3-4d8a-aeb2-7bef3b7bcd79",
     "showTitle": false,
     "tableResultSettingsMap": {},
     "title": ""
    }
   },
   "source": [
    "## Your Lakehouse app is ready and deployed!\n",
    "\n",
    "<img src=\"https://github.com/databricks-demos/dbdemos-resources/blob/main/images/product/chatbot-rag/rag-gradio-app.png?raw=true\" width=\"750px\" style=\"float: right; margin-left:10px\">\n",
    "\n",
    "Open the UI to start requesting your chatbot.\n",
    "\n",
    "As improvement, we could improve our chatbot UI to provide feedback and send it to Mosaic AI Quality Labs, so that bad answers can be reviewed and improved.\n",
    "\n",
    "## Conclusion\n",
    "\n",
    "We saw how Databricks provides an end to end platform: \n",
    "- Building and deploying an endpoint\n",
    "- Buit-in solution to review, analyze and improve our chatbot\n",
    "- Deploy front-end genAI application with lakehouse apps!"
   ]
  },
  {
   "cell_type": "markdown",
   "metadata": {
    "application/vnd.databricks.v1+cell": {
     "cellMetadata": {},
     "inputWidgets": {},
     "nuid": "b47beb1c-52a1-4c39-8326-d4c6b4d51461",
     "showTitle": false,
     "tableResultSettingsMap": {},
     "title": ""
    }
   },
   "source": [
    "## Next: ready to take it to a next level?\n",
    "\n",
    "Open the [03-advanced-app/01-PDF-Advanced-Data-Preparation]($../03-advanced-app/01-PDF-Advanced-Data-Preparation) notebook series to learn more about unstructured data, advanced chain, model evaluation and monitoring."
   ]
  }
 ],
 "metadata": {
  "application/vnd.databricks.v1+notebook": {
   "computePreferences": null,
   "dashboards": [],
   "environmentMetadata": {
    "environment_version": "2"
   },
   "inputWidgetPreferences": null,
   "language": "python",
   "notebookMetadata": {},
   "notebookName": "03-Deploy-Frontend-Lakehouse-App",
   "widgets": {}
  },
  "language_info": {
   "name": "python"
  }
 },
 "nbformat": 4,
 "nbformat_minor": 0
}
