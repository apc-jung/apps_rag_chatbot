{
 "cells": [
  {
   "cell_type": "code",
   "execution_count": 0,
   "metadata": {
    "application/vnd.databricks.v1+cell": {
     "cellMetadata": {
      "byteLimit": 2048000,
      "rowLimit": 10000
     },
     "inputWidgets": {},
     "nuid": "91f6fe6d-ab51-4a10-b365-d57c5bb599cd",
     "showTitle": false,
     "tableResultSettingsMap": {},
     "title": ""
    }
   },
   "outputs": [],
   "source": [
    "%pip install chromadb==0.5.3\n",
    "# %pip install chromadb --upgrade\n",
    "%pip install --upgrade pydantic\n",
    "%pip install --upgrade langchain_openai"
   ]
  },
  {
   "cell_type": "code",
   "execution_count": 0,
   "metadata": {
    "application/vnd.databricks.v1+cell": {
     "cellMetadata": {
      "byteLimit": 2048000,
      "rowLimit": 10000
     },
     "inputWidgets": {},
     "nuid": "cfe4ad54-5d5b-4d1c-ba62-f04650d3b593",
     "showTitle": false,
     "tableResultSettingsMap": {},
     "title": ""
    }
   },
   "outputs": [],
   "source": [
    "dbutils.library.restartPython()"
   ]
  },
  {
   "cell_type": "code",
   "execution_count": 0,
   "metadata": {
    "application/vnd.databricks.v1+cell": {
     "cellMetadata": {
      "byteLimit": 2048000,
      "rowLimit": 10000
     },
     "inputWidgets": {},
     "nuid": "85fb37c2-d5d6-458e-a63a-cae3fef6ca5a",
     "showTitle": false,
     "tableResultSettingsMap": {},
     "title": ""
    }
   },
   "outputs": [],
   "source": [
    "import os\n",
    "# import docx\n",
    "# from unstructured.partition.docx import partition_docx\n",
    "import pandas as pd\n",
    "from pyspark.sql.types import StructType, StructField, StringType\n",
    "import json\n",
    "from pyspark.sql import SparkSession\n",
    "import os\n",
    "import re\n",
    "import requests\n",
    "import sys\n",
    "# from num2words import num2words\n",
    "import os\n",
    "import pandas as pd\n",
    "import numpy as np\n",
    "# import tiktoken\n",
    "from openai import AzureOpenAI\n",
    "import mlflow\n",
    "import mlflow.deployments\n",
    "\n",
    "# # OpenAIの設定\n",
    "# os.environ[\"AZURE_OPENAI_API_KEY\"] = dbutils.secrets.get(\"demo-token-ka.abe\", \"openai_api_key\")\n",
    "# os.environ[\"OPENAI_API_TYPE\"] = \"azure\"\n",
    "# os.environ[\"AZURE_OPENAI_ENDPOINT\"] = dbutils.secrets.get(\"demo-token-ka.abe\", \"openai_endpoint\")\n",
    "# os.environ[\"OPENAI_API_VERSION\"] = \"2024-06-01\"\n",
    "\n",
    "# from openai import AzureOpenAI\n",
    "# # embedding mdoelを読み込む\n",
    "# client = AzureOpenAI(\n",
    "#   api_key = os.getenv(\"Azure_OPENAI_API_KEY\"),  \n",
    "#   api_version = os.getenv(\"OPENAI_API_VERSION\"),\n",
    "#   azure_endpoint = os.getenv(\"AZURE_OPENAI_ENDPOINT\")\n",
    "# )\n",
    "\n",
    "client = mlflow.deployments.get_deploy_client(\"databricks\")\n",
    "\n",
    "def generate_embeddings(text, model=\"text-embedding-3-small\"):\n",
    "    return client.predict(endpoint=\"databricks-bge-large-en\", inputs={\"input\": [text]})"
   ]
  },
  {
   "cell_type": "code",
   "execution_count": 0,
   "metadata": {
    "application/vnd.databricks.v1+cell": {
     "cellMetadata": {
      "byteLimit": 2048000,
      "rowLimit": 10000
     },
     "inputWidgets": {},
     "nuid": "42d40560-d4df-44b5-b69f-5e09d7b0bbf4",
     "showTitle": false,
     "tableResultSettingsMap": {},
     "title": ""
    }
   },
   "outputs": [],
   "source": [
    "import pandas as pd\n",
    "# df = spark.read.table(\"world_tour_2024.dbdemos_rag_chatbot.databricks_documentation_embedding\")\n",
    "df = spark.read.table(\"apps_data.dbx_doc.databricks_doc\")\n",
    "pandas_df = df.toPandas()"
   ]
  },
  {
   "cell_type": "code",
   "execution_count": 0,
   "metadata": {
    "application/vnd.databricks.v1+cell": {
     "cellMetadata": {
      "byteLimit": 2048000,
      "rowLimit": 10000
     },
     "inputWidgets": {},
     "nuid": "3434c752-0a08-460f-a9af-bf0d14da84f4",
     "showTitle": false,
     "tableResultSettingsMap": {},
     "title": ""
    }
   },
   "outputs": [],
   "source": [
    "# import chromadb\n",
    "# import json\n",
    "# from langchain_openai import AzureOpenAIEmbeddings\n",
    "\n",
    "# # chroma_client = chromadb.Client()\n",
    "# chroma_client = chromadb.Client()\n",
    "\n",
    "# collection = chroma_client.create_collection(name = \"dbx_collection\")"
   ]
  },
  {
   "cell_type": "code",
   "execution_count": 0,
   "metadata": {
    "application/vnd.databricks.v1+cell": {
     "cellMetadata": {
      "byteLimit": 2048000,
      "rowLimit": 10000
     },
     "inputWidgets": {},
     "nuid": "d432ff94-69ee-4f4b-86cd-ca8c11f159cd",
     "showTitle": false,
     "tableResultSettingsMap": {},
     "title": ""
    }
   },
   "outputs": [],
   "source": [
    "import chromadb\n",
    "import json\n",
    "from chromadb.config import Settings\n",
    "\n",
    "chroma_client = chromadb.PersistentClient(\n",
    "    path=\"/Volumes/apps_data/dbx_doc/embedding/\",\n",
    "    settings=Settings(anonymized_telemetry=False)\n",
    ")"
   ]
  },
  {
   "cell_type": "code",
   "execution_count": 0,
   "metadata": {
    "application/vnd.databricks.v1+cell": {
     "cellMetadata": {},
     "inputWidgets": {},
     "nuid": "2d4df871-2704-4687-9401-b9d43dfc3b31",
     "showTitle": false,
     "tableResultSettingsMap": {},
     "title": ""
    }
   },
   "outputs": [],
   "source": [
    "# returns a list of the first 10 items in the collection\n",
    "collection.peek()"
   ]
  },
  {
   "cell_type": "code",
   "execution_count": 0,
   "metadata": {
    "application/vnd.databricks.v1+cell": {
     "cellMetadata": {},
     "inputWidgets": {},
     "nuid": "b49969fb-9a85-4ae7-af15-b63ac5058453",
     "showTitle": false,
     "tableResultSettingsMap": {},
     "title": ""
    }
   },
   "outputs": [],
   "source": [
    "# returns the number of items in the collection\n",
    "collection.count()"
   ]
  },
  {
   "cell_type": "code",
   "execution_count": 0,
   "metadata": {
    "application/vnd.databricks.v1+cell": {
     "cellMetadata": {},
     "inputWidgets": {},
     "nuid": "3ec53e83-c5ab-4ce5-8855-92622c37e446",
     "showTitle": false,
     "tableResultSettingsMap": {},
     "title": ""
    }
   },
   "outputs": [],
   "source": [
    "# クエリテキスト: 初期段階では、特許の要約部分を取得\n",
    "query_text = \"how to create the delta live table\"\n",
    "# query_text = \"デルタライブテーブルをどのように作成しますか。\"\n",
    "\n",
    "# クエリテキストの埋め込みを生成\n",
    "query_embedding = generate_embeddings(query_text)\n",
    "\n",
    "# コレクションをクエリして最も類似したドキュメントを取得\n",
    "results = collection.query(\n",
    "    query_embeddings=query_embedding,\n",
    "    n_results=10  # 取得する結果の数を指定\n",
    ")\n",
    "\n",
    "# 結果を表示\n",
    "ids_list = []\n",
    "for result_list in results['ids']:\n",
    "    for result in result_list:\n",
    "        ids_list.append(int(result)) \n"
   ]
  }
 ],
 "metadata": {
  "application/vnd.databricks.v1+notebook": {
   "computePreferences": {
    "hardware": {
     "accelerator": null,
     "gpuPoolId": null,
     "memory": null
    }
   },
   "dashboards": [],
   "environmentMetadata": {
    "base_environment": "",
    "environment_version": "3"
   },
   "inputWidgetPreferences": null,
   "language": "python",
   "notebookMetadata": {
    "pythonIndentUnit": 4
   },
   "notebookName": "chromadb",
   "widgets": {}
  },
  "language_info": {
   "name": "python"
  }
 },
 "nbformat": 4,
 "nbformat_minor": 0
}
