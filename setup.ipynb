{
 "cells": [
  {
   "cell_type": "code",
   "execution_count": 0,
   "metadata": {
    "application/vnd.databricks.v1+cell": {
     "cellMetadata": {
      "byteLimit": 2048000,
      "rowLimit": 10000
     },
     "inputWidgets": {},
     "nuid": "50462643-93cc-445d-b950-b5976fe7be10",
     "showTitle": false,
     "tableResultSettingsMap": {},
     "title": ""
    }
   },
   "outputs": [],
   "source": [
    "# Spark 테이블 불러오기\n",
    "df = spark.table(\"apps_data.dbx_doc.databricks_doc\")\n",
    "\n",
    "# 저장할 볼륨 경로 지정\n",
    "dst_volume = \"/Volumes/apps_data/dbx_doc/databricks_doc\"\n",
    "\n",
    "# 디렉토리 생성 (존재하지 않으면 생성됨)\n",
    "dbutils.fs.mkdirs(dst_volume)\n",
    "\n",
    "# DataFrame을 Delta 포맷으로 저장 (overwrite: 기존 데이터 덮어쓰기)\n",
    "df.write.format(\"delta\").mode(\"overwrite\").save(dst_volume)\n",
    "\n",
    "print(\"Spark 테이블을 볼륨에 저장했습니다.\")"
   ]
  },
  {
   "cell_type": "code",
   "execution_count": 0,
   "metadata": {
    "application/vnd.databricks.v1+cell": {
     "cellMetadata": {
      "byteLimit": 2048000,
      "rowLimit": 10000
     },
     "inputWidgets": {},
     "nuid": "aecd4c0f-c11c-4bdf-8973-2fdafdce440e",
     "showTitle": false,
     "tableResultSettingsMap": {},
     "title": ""
    }
   },
   "outputs": [],
   "source": [
    "# 볼륨에 저장된 데이터를 읽어 DataFrame으로 로드\n",
    "df_loaded = spark.read.format(\"delta\").load(dst_volume)\n",
    "\n",
    "# DataFrame을 표시\n",
    "display(df_loaded)"
   ]
  },
  {
   "cell_type": "code",
   "execution_count": 0,
   "metadata": {
    "application/vnd.databricks.v1+cell": {
     "cellMetadata": {
      "byteLimit": 2048000,
      "rowLimit": 10000
     },
     "inputWidgets": {},
     "nuid": "5938b0a8-16a3-4341-ac7d-82bfb08afba3",
     "showTitle": false,
     "tableResultSettingsMap": {},
     "title": ""
    }
   },
   "outputs": [],
   "source": [
    "import pandas as pd\n",
    "df = pd.read_parquet(\"/Volumes/apps_data/dbx_doc/databricks_doc\")\n",
    "display(df)"
   ]
  }
 ],
 "metadata": {
  "application/vnd.databricks.v1+notebook": {
   "computePreferences": {
    "hardware": {
     "accelerator": null,
     "gpuPoolId": null,
     "memory": null
    }
   },
   "dashboards": [],
   "environmentMetadata": {
    "base_environment": "",
    "environment_version": "3"
   },
   "inputWidgetPreferences": null,
   "language": "python",
   "notebookMetadata": {
    "pythonIndentUnit": 4
   },
   "notebookName": "setup",
   "widgets": {}
  },
  "language_info": {
   "name": "python"
  }
 },
 "nbformat": 4,
 "nbformat_minor": 0
}
